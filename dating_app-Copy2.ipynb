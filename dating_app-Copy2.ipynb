{
 "cells": [
  {
   "cell_type": "code",
   "execution_count": 1,
   "metadata": {},
   "outputs": [],
   "source": [
    "import pandas as pd\n",
    "import numpy as np\n",
    "from matplotlib import pyplot as plt\n",
    "\n",
    "df = pd.read_csv(\"profiles.csv\")\n",
    "\n",
    "### Exploring the data\n",
    "#print(df.columns)\n",
    "#print(df.job.value_counts())\n",
    "#print(df.sign.value_counts())\n",
    "#print(df.education.value_counts())\n",
    "#print(df.religion.value_counts())\n",
    "#print(df.speaks.value_counts())\n",
    "#print(df.income.value_counts())\n",
    "#print(df.offspring.value_counts())\n",
    "#print(df.ethnicity.value_counts())\n",
    "#print(df.speaks.value_counts())\n",
    "#print(df.sex.value_counts())"
   ]
  },
  {
   "cell_type": "code",
   "execution_count": 2,
   "metadata": {},
   "outputs": [],
   "source": [
    "### Showing the data\n",
    "\n",
    "avg_age = df.age.sum() /len(df.age)\n",
    "#print(avg_age)\n",
    "\n",
    "avg_height = df.height.sum() /len(df.height)\n",
    "avg_height_feet = avg_height *0.083 \n",
    "#print(avg_height_feet)\n",
    "\n",
    "avg_income = (df.income.sum() + 48442) /(len(df.income) - 48442)\n",
    "#print(avg_income)\n",
    "\n",
    "perc_no_income = (48442 / len(df.income))\n",
    "#print(perc_no_income)\n",
    "\n",
    "no_kids = (7560 + 3875 + 3565 + 2927 +1132+ 225 + 182) \n",
    "has_kids = (1883 + 1881 + 442 + 275 + 251 + 115 + 71 + 21)\n",
    "#print(no_kids)\n",
    "#print(has_kids)\n",
    "\n",
    "white = 32631 / len(df.ethnicity)\n",
    "non_white = (len(df.ethnicity) - 32631)\n",
    "#print(white)\n",
    "#print(non_white)\n",
    "\n",
    "english_only = 21828 / len(df.speaks)\n",
    "other_lang =len(df.speaks)     \n",
    "#print(english_only)\n",
    "#print(other_lang)\n",
    "\n",
    "# plot charts\n",
    "gender_data = [24117, 35829]\n",
    "#plt.figure(figsize=(4,4))\n",
    "#plt.pie(gender_data, labels=['Women', \"Men\"], autopct='%d%%')\n",
    "plt.savefig('Gender_Split.png')\n",
    "plt.axis(\"equal\")\n",
    "\n",
    "ethnic_data = [32631, 27314]\n",
    "#plt.figure(figsize=(4,4))\n",
    "#plt.pie(ethnic_data, labels=['White', \"Other\"], autopct='%d%%')\n",
    "plt.savefig('ethnic_Split.png')\n",
    "plt.axis(\"equal\")\n",
    "\n",
    "kids_data = [19466, 4939]\n",
    "#plt.figure(figsize=(4,4))\n",
    "#plt.pie(kids_data, labels=['Has no kids', \"Has kids\"], autopct='%d%%')\n",
    "plt.savefig('kids_Split.png')\n",
    "plt.axis(\"equal\")\n",
    "\n",
    "#plt.show()\n",
    "plt.close('all')\n"
   ]
  },
  {
   "cell_type": "code",
   "execution_count": 4,
   "metadata": {},
   "outputs": [
    {
     "name": "stderr",
     "output_type": "stream",
     "text": [
      "C:\\Users\\Administrator\\Miniconda3\\lib\\site-packages\\numpy\\lib\\histograms.py:746: RuntimeWarning: invalid value encountered in greater_equal\n",
      "  keep = (tmp_a >= first_edge)\n",
      "C:\\Users\\Administrator\\Miniconda3\\lib\\site-packages\\numpy\\lib\\histograms.py:747: RuntimeWarning: invalid value encountered in less_equal\n",
      "  keep &= (tmp_a <= last_edge)\n"
     ]
    }
   ],
   "source": [
    "# plotting age histogram\n",
    "plt.figure(figsize=(3,3))\n",
    "plt.hist(df.age, bins=20)\n",
    "plt.xlabel(\"Age\")\n",
    "plt.ylabel(\"Frequency\")\n",
    "plt.title('Age Histogram')\n",
    "plt.xlim(16, 80)\n",
    "plt.savefig('age_histogram.png')\n",
    "\n",
    "\n",
    "# plotting height histogram\n",
    "plt.figure(figsize=(3,3))\n",
    "df['height_in_feet'] = df.height* 0.0833\n",
    "plt.hist(df.height_in_feet, bins=20)\n",
    "plt.xlabel(\"Height in Feet\")\n",
    "plt.ylabel(\"Frequency\")\n",
    "plt.title('Height Histogram')\n",
    "plt.xlim(4, 8)\n",
    "plt.savefig('height_histogram.png')\n",
    "\n",
    "\n",
    "#plt.show()\n",
    "\n",
    "plt.close('all')"
   ]
  },
  {
   "cell_type": "code",
   "execution_count": 5,
   "metadata": {},
   "outputs": [],
   "source": [
    "#print(df.drugs.value_counts())\n",
    "#print(df.smokes.value_counts())\n",
    "#print(df.drinks.value_counts())\n",
    "\n",
    "#plt.figure(figsize=(6,10))\n",
    "plt.subplot(1, 3, 1)\n",
    "drugs_data = [37724, 7732, 410]\n",
    "drugs_labels = ['never', 'sometimes', 'often']\n",
    "plt.pie(drugs_data, labels=drugs_labels, autopct='%d%%')\n",
    "plt.axis(\"equal\")\n",
    "plt.savefig('drugs_split.png')\n",
    "\n",
    "plt.subplot(1, 3, 2)\n",
    "smokes_data = [43896, 3787, 3040, 2231, 1480]\n",
    "smokes_labels = ['no', 'sometimes', 'when drinking', 'trying to quit', 'yes']\n",
    "plt.pie(smokes_data, labels=smokes_labels, autopct='%d%%')\n",
    "plt.axis(\"equal\")\n",
    "plt.savefig('smokes_split.png')\n",
    "\n",
    "plt.subplot(1, 3, 3)\n",
    "drinks_data = [41780, 5957, 5164, 3267, 471, 322]\n",
    "drinks_labels = ['socially', 'rarely', 'often', 'not at all', 'very often', 'desperately']\n",
    "plt.pie(drinks_data, labels=drinks_labels, autopct='%d%%')\n",
    "plt.axis(\"equal\")\n",
    "plt.savefig('drinks_split.png')\n",
    "\n",
    "plt.subplots_adjust(wspace=0.75)\n",
    "\n",
    "#plt.show()\n",
    "\n",
    "plt.close('all')"
   ]
  },
  {
   "cell_type": "code",
   "execution_count": 4,
   "metadata": {},
   "outputs": [],
   "source": [
    "# cleaning the dataset\n",
    "essay_cols = [\"essay0\",\"essay1\",\"essay2\",\"essay3\",\"essay4\",\"essay5\",\"essay6\",\"essay7\",\"essay8\",\"essay9\"]\n",
    "\n",
    "# Removing the NaNs\n",
    "all_essays = df[essay_cols].replace(np.nan, '', regex=True)\n",
    "# Combining the essays\n",
    "all_essays = all_essays[essay_cols].apply(lambda x: ' '.join(x), axis=1)\n",
    "\n",
    "df['all_essays'] = all_essays\n",
    "\n",
    "#cleaning all_essay data\n",
    "all_essays_clean1 = df['all_essays'].str.replace(\".\", \" \").str.replace(\":\", \" \").str.replace(\"?\", \" \").str.replace(\"\\n\",\" \")\n",
    "df['all_essays'] = all_essays_clean1\n",
    "all_essays_clean2 = df['all_essays'].str.replace(\"<br />\", \" \").str.replace(\"\\n\",\" \").str.replace(\"i'm\", \"i am\")\n",
    "df['all_essays'] = all_essays_clean2\n",
    "#print(df['all_essays'].head())\n",
    "\n",
    "# adding an essay_len col\n",
    "df[\"essay_len\"] = all_essays.apply(lambda x: len(x))\n",
    "#print(df['essay_len'].head(10))\n",
    "\n",
    "df[\"word_count\"] = all_essays.apply(lambda x: len(x.split()))\n",
    "#print(df['word_count'].head(10))\n",
    "\n",
    "df['freq_of_me'] = df['all_essays'].apply(lambda x: len(x.split(\" me \")))\n",
    "#print(df['freq_of_me'].head())\n",
    "\n",
    "df['freq_of_I'] = df['all_essays'].apply(lambda x: len(x.split(\" i \")))\n",
    "#print(df['freq_of_I'].head())\n",
    "\n"
   ]
  },
  {
   "cell_type": "code",
   "execution_count": 195,
   "metadata": {},
   "outputs": [],
   "source": [
    "### Use Regression Techniques\n",
    "# To predict age with the frequency of \"I\" or \"me\" in essays?\n"
   ]
  },
  {
   "cell_type": "code",
   "execution_count": 16,
   "metadata": {},
   "outputs": [
    {
     "name": "stderr",
     "output_type": "stream",
     "text": [
      "C:\\Users\\Administrator\\Miniconda3\\lib\\site-packages\\sklearn\\utils\\validation.py:590: DataConversionWarning: Data with input dtype int64 was converted to float64 by MinMaxScaler.\n",
      "  warnings.warn(msg, DataConversionWarning)\n"
     ]
    }
   ],
   "source": [
    "### Linear Regression Techniques\n",
    "\n",
    "#Preprocessing data\n",
    "from sklearn import preprocessing\n",
    "\n",
    "#clean of NANs\n",
    "df['age_clean'] = df['age'].replace(np.nan, 0, regex=True)\n",
    "df['freq_of_I_clean'] = df['freq_of_I'].replace(np.nan, 0, regex=True)\n",
    "df['freq_of_me_clean'] = df['freq_of_me'].replace(np.nan, 0, regex=True)\n",
    "df['word_count_clean'] = df['word_count'].replace(np.nan, 0, regex=True)\n",
    "df['essay_len_clean'] = df['essay_len'].replace(np.nan, 0, regex=True)\n",
    "\n",
    "#feature_data = dfessays[['age_clean','freq_of_I_clean', 'freq_of_me_clean']]\n",
    "feature_data = df[['age_clean','freq_of_I_clean', 'freq_of_me_clean', 'word_count_clean', 'essay_len_clean']]\n",
    "\n",
    "x_to_scale = feature_data.values\n",
    "min_max_scaler = preprocessing.MinMaxScaler()\n",
    "x_scaled = min_max_scaler.fit_transform(x_to_scale)\n",
    "\n",
    "feature_data = pd.DataFrame(x_scaled, columns=feature_data.columns)\n"
   ]
  },
  {
   "cell_type": "code",
   "execution_count": 24,
   "metadata": {},
   "outputs": [
    {
     "name": "stdout",
     "output_type": "stream",
     "text": [
      "0.03300166130065918\n"
     ]
    }
   ],
   "source": [
    "import time\n",
    "start = time.time()\n",
    "\n",
    "from sklearn.linear_model import LinearRegression\n",
    "from sklearn.model_selection import train_test_split\n",
    "\n",
    "#option 1\n",
    "#x_values = feature_data[['freq_of_I_clean', 'freq_of_me_clean']]\n",
    "\n",
    "#option 2\n",
    "x_values = feature_data[['freq_of_I_clean', 'freq_of_me_clean', 'word_count_clean', 'essay_len_clean']]\n",
    "y_values = feature_data['age_clean']\n",
    "\n",
    "x_train, x_test, y_train, y_test = train_test_split(x_values, y_values, train_size=0.8, test_size=0.2)\n",
    "\n",
    "#Check inputs\n",
    "#print(x_train.shape)\n",
    "#print(x_test.shape)\n",
    "#print(y_train.shape)\n",
    "#print(y_test.shape)\n",
    "\n",
    "#Fit line\n",
    "line_fitter = LinearRegression()\n",
    "line_fitter.fit(x_train, y_train)\n",
    "\n",
    "#Predict\n",
    "y_predict = line_fitter.predict(x_test)\n",
    "\n",
    "#plot graph\n",
    "#plt.scatter(y_test, y_predict)\n",
    "#plt.xlabel('Frequency of use of \"I\" and \"me\"')\n",
    "#plt.ylabel('Age')\n",
    "#plt.title('Correlation of age with use of language')\n",
    "#plt.savefig('age_with_lang.png')\n",
    "\n",
    "#Alternative\n",
    "#plt.title('Correlation of age with use of language, word count and essay length')\n",
    "#plt.savefig('age_with_lang_etc.png')\n",
    "plt.show()\n",
    "\n",
    "end = time.time()\n",
    "print(end - start)"
   ]
  },
  {
   "cell_type": "code",
   "execution_count": 23,
   "metadata": {},
   "outputs": [
    {
     "name": "stdout",
     "output_type": "stream",
     "text": [
      "[-0.29274765 -0.1174442   1.67735071 -0.99750981]\n",
      "1.1305317232937484\n",
      "1.2705904674772173\n"
     ]
    }
   ],
   "source": [
    "#Split out the variables and try others then use print(model.coef__) to check coefficients\n",
    "age_model = line_fitter.fit(x_train, y_train)\n",
    "\n",
    "coefficient = age_model.coef_\n",
    "score_train = age_model.score(x_train, y_train)\n",
    "score_test = age_model.score(x_test, y_test)\n",
    "\n",
    "print(coefficient)\n",
    "print(score_train * 100)\n",
    "print(score_test * 100)\n",
    "\n",
    "#Plot residuals\n",
    "residuals = y_predict - y_test\n",
    "\n",
    "#plt.scatter(y_predict, residuals, alpha=0.4)\n",
    "#plt.title('Residual Analysis')\n",
    "#plt.savefig('age_residuals.png')\n",
    "\n",
    "#Alternative\n",
    "#plt.savefig('age_plus_residuals.png')\n",
    "plt.show()"
   ]
  },
  {
   "cell_type": "code",
   "execution_count": 25,
   "metadata": {},
   "outputs": [
    {
     "name": "stdout",
     "output_type": "stream",
     "text": [
      "14.0\n",
      "1    30751\n",
      "0    29195\n",
      "Name: I_is_high, dtype: int64\n",
      "30.0\n",
      "1    31205\n",
      "0    28741\n",
      "Name: age_is_high, dtype: int64\n"
     ]
    }
   ],
   "source": [
    "# Compare against K-Nearest Neighbors Regression\n",
    "# B Predict age with the frequency of \"I\" or \"me\" in essays?\n",
    "\n",
    "#Define standards - compared using different indices \n",
    "median_freq_of_I_clean = df['freq_of_I_clean'].median()\n",
    "print(median_freq_of_I_clean)\n",
    "df['I_is_high'] = np.where(df['freq_of_I_clean'] >= median_freq_of_I_clean, 1, 0)\n",
    "print(df['I_is_high'].value_counts())\n",
    "\n",
    "median_age_clean = df['age_clean'].median()\n",
    "print(median_age_clean)\n",
    "df['age_is_high'] = np.where(df['age_clean'] >= median_age_clean, 1, 0)\n",
    "print(df['age_is_high'].value_counts())\n"
   ]
  },
  {
   "cell_type": "code",
   "execution_count": 36,
   "metadata": {},
   "outputs": [
    {
     "name": "stderr",
     "output_type": "stream",
     "text": [
      "C:\\Users\\Administrator\\Miniconda3\\lib\\site-packages\\ipykernel_launcher.py:27: DataConversionWarning: Data with input dtype int64 were all converted to float64 by the scale function.\n"
     ]
    },
    {
     "name": "stdout",
     "output_type": "stream",
     "text": [
      "[-1.09389797  2.09908497  0.32286137  0.21515545]\n",
      "0.8564637197664721\n",
      "0.5640320777893066\n"
     ]
    }
   ],
   "source": [
    "import time\n",
    "start = time.time()\n",
    "\n",
    "#Normalise data\n",
    "from sklearn.preprocessing import scale\n",
    "\n",
    "#Option 1\n",
    "labels = df['I_is_high']\n",
    "\n",
    "#Ootion 2\n",
    "#labels = df['age_is_high']\n",
    "\n",
    "#Option 1\n",
    "#data = df[['age_clean']]\n",
    "#data = df[['age_clean','freq_of_me_clean']]\n",
    "#data = df[['age_clean','word_count_clean']]\n",
    "#data = df[['age_clean','word_count_clean','freq_of_me_clean']]\n",
    "data = df[['age_clean', 'freq_of_me_clean','word_count_clean','essay_len_clean']]\n",
    "\n",
    "#Ootion 2\n",
    "#data = df[['freq_of_I_clean']]\n",
    "#data = df[['freq_of_I_clean','freq_of_me_clean']]\n",
    "#data = df[['freq_of_I_clean','word_count_clean']]\n",
    "#data = df[['freq_of_I_clean','word_count_clean','freq_of_me_clean']] - best score\n",
    "#data = df[['freq_of_I_clean', 'freq_of_me_clean', 'word_count_clean','essay_len_clean']]\n",
    "\n",
    "scaled_data = scale(data, axis=0)\n",
    "\n",
    "print(scaled_data[0])\n",
    "\n",
    "train_data, test_data, train_labels, test_labels = train_test_split(scaled_data, labels, test_size = 0.2, random_state = 1)\n",
    "\n",
    "from sklearn.neighbors import KNeighborsClassifier\n",
    "\n",
    "classifier = KNeighborsClassifier(n_neighbors = 5)\n",
    "classifier.fit(train_data, train_labels)\n",
    "print(classifier.score(test_data, test_labels))\n",
    "\n",
    "end = time.time()\n",
    "print(end - start)\n"
   ]
  },
  {
   "cell_type": "code",
   "execution_count": 34,
   "metadata": {},
   "outputs": [
    {
     "name": "stdout",
     "output_type": "stream",
     "text": [
      "[0.5719719]\n"
     ]
    }
   ],
   "source": [
    "from sklearn.neighbors import KNeighborsRegressor\n",
    "\n",
    "regressor = KNeighborsRegressor(n_neighbors = 5, weights = \"distance\")\n",
    "\n",
    "age_dataset = train_data\n",
    "I_usage = train_labels\n",
    "\n",
    "regressor.fit(age_dataset, I_usage)\n",
    "\n",
    "#forecast_freq = [[25]]\n",
    "#forecast_freq = [[25, 10]]\n",
    "#forecast_freq = [[25, 2, 10]]\n",
    "forecast_freq = [[25, 2, 5, 5]]\n",
    "\n",
    "print(regressor.predict(forecast_freq))"
   ]
  },
  {
   "cell_type": "code",
   "execution_count": 39,
   "metadata": {
    "scrolled": true
   },
   "outputs": [],
   "source": [
    "#Choosing k\n",
    "scores = []\n",
    "for k in range(1, 200):\n",
    "    classifier = KNeighborsClassifier(n_neighbors = k)\n",
    "    classifier.fit(train_data, train_labels)\n",
    "    scores.append(classifier.score(test_data, test_labels))\n",
    "    \n",
    "#plt.plot(range(1,200), scores)\n",
    "#plt.xlabel(\"k\")\n",
    "#plt.ylabel(\"Validation Accuracy\")\n",
    "#plt.title(\"Validation Accuracy as k changes\")\n",
    "#plt.savefig('k_over_ten.png')\n",
    "#plt.savefig('k_over_two_hundred.png')\n",
    "#plt.show()"
   ]
  },
  {
   "cell_type": "code",
   "execution_count": null,
   "metadata": {},
   "outputs": [],
   "source": [
    "### Can we predict education level with essay text word counts?\n",
    "#Using KNN and Naive Bayes classification techniques  "
   ]
  },
  {
   "cell_type": "code",
   "execution_count": 45,
   "metadata": {},
   "outputs": [
    {
     "name": "stdout",
     "output_type": "stream",
     "text": [
      "316.0\n",
      "1    30013\n",
      "0    29933\n",
      "Name: words_high, dtype: int64\n",
      "working on college/university student\n"
     ]
    }
   ],
   "source": [
    "#Used Naive Bayes to preduct education level with word count\n",
    "#print(df['education'].head())\n",
    "\n",
    "median_word_count = df['word_count'].median()\n",
    "print(median_word_count)\n",
    "df['words_high'] = np.where(df['word_count'] >= median_word_count, 1, 0)\n",
    "print(df['words_high'].value_counts())\n",
    "\n",
    "# Option 1 Education only \n",
    "#df['edu_clean'] = df['education'].replace(np.nan, '', regex=True)\n",
    "#edu_data = df['edu_clean']\n",
    "\n",
    "# Option 2 Education plus Job only\n",
    "#df['job_clean'] = df['job'].replace(np.nan, '', regex=True)\n",
    "#edu_data = df['job_clean']\n",
    "\n",
    "edu_cols = [\"education\",\"job\"]\n",
    "edu_data = df[edu_cols].replace(np.nan, '', regex=True)\n",
    "edu_data = edu_data[edu_cols].apply(lambda x: ' '.join(x), axis=1)\n",
    "\n",
    "from sklearn.model_selection import train_test_split\n",
    "\n",
    "edu_labels = [0] * 30013 + [1] * 29933\n",
    "\n",
    "train_data, test_data, train_labels, test_labels = train_test_split(edu_data, edu_labels, test_size = 0.2, random_state = 1)\n",
    "#checks\n",
    "#print(len(train_data))\n",
    "#print(len(test_data))\n",
    "print(train_data[3])"
   ]
  },
  {
   "cell_type": "code",
   "execution_count": 46,
   "metadata": {},
   "outputs": [
    {
     "name": "stdout",
     "output_type": "stream",
     "text": [
      "working on college/university student\n",
      "  (0, 2)\t1\n",
      "  (0, 7)\t1\n",
      "  (0, 35)\t1\n",
      "  (0, 38)\t1\n",
      "  (0, 58)\t1\n",
      "  (0, 61)\t1\n",
      "  (0, 62)\t1\n",
      "  (0, 63)\t1\n"
     ]
    }
   ],
   "source": [
    "#Create counter\n",
    "from sklearn.feature_extraction.text import CountVectorizer\n",
    "\n",
    "counter = CountVectorizer()\n",
    "counter.fit(train_data)\n",
    "train_counts = counter.transform(train_data)\n",
    "test_counts = counter.transform(test_data)\n",
    "\n",
    "print(train_data[3])\n",
    "print(train_counts[3])"
   ]
  },
  {
   "cell_type": "code",
   "execution_count": 47,
   "metadata": {},
   "outputs": [
    {
     "name": "stdout",
     "output_type": "stream",
     "text": [
      "0.5140950792326939\n",
      "0.5195995248600034\n",
      "0.5055307908205382\n",
      "0.5124686192468619\n",
      "[[3102 2995]\n",
      " [2831 3062]]\n",
      "0.09100532531738281\n"
     ]
    }
   ],
   "source": [
    "import time\n",
    "start = time.time()\n",
    "\n",
    "#Train and test Naive bayes Classifier\n",
    "from sklearn.naive_bayes import MultinomialNB\n",
    "\n",
    "classifier = MultinomialNB()\n",
    "classifier.fit(train_counts, train_labels)\n",
    "predictions = classifier.predict(test_counts)\n",
    "\n",
    "# MOdel evaluation\n",
    "from sklearn.metrics import accuracy_score, recall_score, precision_score, f1_score\n",
    "\n",
    "print(accuracy_score(test_labels, predictions))\n",
    "print(recall_score(test_labels, predictions))\n",
    "print(precision_score(test_labels, predictions))\n",
    "print(f1_score(test_labels, predictions))\n",
    "\n",
    "# Check confusion matrix\n",
    "from sklearn.metrics import confusion_matrix\n",
    "print(confusion_matrix(test_labels, predictions))\n",
    "\n",
    "end = time.time()\n",
    "print(end - start)\n"
   ]
  },
  {
   "cell_type": "code",
   "execution_count": 52,
   "metadata": {},
   "outputs": [
    {
     "name": "stdout",
     "output_type": "stream",
     "text": [
      "[1]\n"
     ]
    }
   ],
   "source": [
    "comment = \"great engineer\"\n",
    "#comment = \"droppped out of life\"\n",
    "#comment = \"droppped out of space camp\"\n",
    "comment_counts = counter.transform([comment])\n",
    "print(classifier.predict(comment_counts))\n"
   ]
  },
  {
   "cell_type": "code",
   "execution_count": null,
   "metadata": {},
   "outputs": [],
   "source": [
    "#other alternatives"
   ]
  },
  {
   "cell_type": "code",
   "execution_count": 55,
   "metadata": {},
   "outputs": [],
   "source": [
    "#Mapping Education Matrix\n",
    "df['dropped_out'] = df['education'].str.contains(\"dropped out\")\n",
    "df[\"adjust_dropout\"] = df['dropped_out'].map({False: 0, True: -1})\n",
    "df['graduated'] = df['education'].str.contains(\"graduated\")\n",
    "df[\"adjust_graduated\"] = df['graduated'].map({False: 0, True: 1})\n",
    "\n",
    "df['spacecamp'] = df['education'].str.contains(\"space camp\")\n",
    "df[\"spacecamp_score\"] = df['spacecamp'].map({False: 0, True: 8})\n",
    "\n",
    "df['phd'] = df['education'].str.contains(\"ph.d\")\n",
    "df[\"phd_score\"] = df['phd'].map({False: 0, True: 7})\n",
    "\n",
    "df['med_law'] = df['education'].str.contains(\"med school\", \"law school\")\n",
    "df[\"med_law_score\"] = df['med_law'].map({False: 0, True: 6})\n",
    "\n",
    "df['masters'] = df['education'].str.contains(\"masters\")\n",
    "df[\"masters_score\"] = df['masters'].map({False: 0, True: 5})\n",
    "\n",
    "df['university'] = df['education'].str.contains(\"college/university\")\n",
    "df[\"university_score\"] = df['university'].map({False: 0, True: 4})\n",
    "\n",
    "df['college'] = df['education'].str.contains(\"two-year college\")\n",
    "df[\"college_score\"] = df['college'].map({False: 0, True: 3})\n",
    "\n",
    "df['school'] = df['education'].str.contains(\"high school\")\n",
    "df[\"school_score\"] = df['school'].map({False: 0, True: 2})\n",
    "\n",
    "df['education_counter'] = df['spacecamp_score'] + df['phd_score'] + df['med_law_score'] + df['masters_score'] + df[\"university_score\"] + df['college_score'] + df['school']\n",
    "df['education_counter_adjusted'] = df['education_counter'] + df[\"adjust_dropout\"] + df[\"adjust_graduated\"]\n",
    "\n",
    "#print(df['education_counter'].value_counts())\n",
    "#print(df['education_counter_adjusted'].value_counts())"
   ]
  },
  {
   "cell_type": "code",
   "execution_count": null,
   "metadata": {},
   "outputs": [],
   "source": [
    "# Can we predict education level with word counts\n",
    "# Compare using K-Nearest Neighbors\n"
   ]
  },
  {
   "cell_type": "code",
   "execution_count": 87,
   "metadata": {},
   "outputs": [
    {
     "name": "stdout",
     "output_type": "stream",
     "text": [
      "[-0.18890356 -1.09389797]\n",
      "47956\n",
      "11990\n"
     ]
    },
    {
     "name": "stderr",
     "output_type": "stream",
     "text": [
      "C:\\Users\\Administrator\\Miniconda3\\lib\\site-packages\\ipykernel_launcher.py:15: DataConversionWarning: Data with input dtype int64, float64 were all converted to float64 by the scale function.\n",
      "  from ipykernel import kernelapp as app\n"
     ]
    }
   ],
   "source": [
    "#clean data\n",
    "df['education_counter'] = df['education_counter'].replace(np.nan, 0, regex=True)\n",
    "df['education_counter_adjusted'] = df['education_counter_adjusted'].replace(np.nan, 0, regex=True)\n",
    "\n",
    "#Normalise data\n",
    "from sklearn.preprocessing import scale\n",
    "\n",
    "#Inputs\n",
    "knn_labels = df['words_high']\n",
    "\n",
    "#knn_data = df[['education_counter_adjusted']]\n",
    "knn_data = df[['education_counter_adjusted', 'age_clean']]\n",
    "               \n",
    "#Scale data \n",
    "scaled_data = scale(knn_data, axis=0)\n",
    "print(scaled_data[0])\n",
    "\n",
    "train_data, test_data, train_labels, test_labels = train_test_split(scaled_data, knn_labels, test_size = 0.2, random_state = 1)\n",
    "\n",
    "\n",
    "#checks\n",
    "print(len(train_data))\n",
    "print(len(test_data))               \n"
   ]
  },
  {
   "cell_type": "code",
   "execution_count": 91,
   "metadata": {},
   "outputs": [
    {
     "name": "stdout",
     "output_type": "stream",
     "text": [
      "0.5356130108423687\n",
      "0.7000401020050049\n"
     ]
    }
   ],
   "source": [
    "import time\n",
    "start = time.time()\n",
    "\n",
    "from sklearn.neighbors import KNeighborsClassifier\n",
    "\n",
    "classifier = KNeighborsClassifier(n_neighbors = 8)\n",
    "classifier.fit(train_data, train_labels)\n",
    "print(classifier.score(test_data, test_labels))\n",
    "\n",
    "end = time.time()\n",
    "print(end - start)"
   ]
  },
  {
   "cell_type": "code",
   "execution_count": 89,
   "metadata": {},
   "outputs": [
    {
     "data": {
      "image/png": "[encoded data removed]",
      "text/plain": [
       "<Figure size 432x288 with 1 Axes>"
      ]
     },
     "metadata": {
      "needs_background": "light"
     },
     "output_type": "display_data"
    },
    {
     "name": "stdout",
     "output_type": "stream",
     "text": [
      "90.8761978149414\n"
     ]
    }
   ],
   "source": [
    "import time\n",
    "start = time.time()\n",
    "\n",
    "#Choosing k\n",
    "scores = []\n",
    "for k in range(1, 100):\n",
    "    classifier = KNeighborsClassifier(n_neighbors = k)\n",
    "    classifier.fit(train_data, train_labels)\n",
    "    scores.append(classifier.score(test_data, test_labels))\n",
    "    \n",
    "plt.plot(range(1,100), scores)\n",
    "plt.xlabel(\"k\")\n",
    "plt.ylabel(\"Validation Accuracy\")\n",
    "plt.title(\"Validation Accuracy as k changes\")\n",
    "\n",
    "#Saved options\n",
    "plt.savefig('k_in_edu_age_adj_long')\n",
    "#plt.savefig('k_in_edu_age_adj')\n",
    "#plt.savefig('k_in_edu_spot')\n",
    "#plt.savefig('k_in_edu_breath.png')\n",
    "\n",
    "plt.show()\n",
    "\n",
    "end = time.time()\n",
    "print(end - start)"
   ]
  },
  {
   "cell_type": "code",
   "execution_count": null,
   "metadata": {},
   "outputs": [],
   "source": [
    "# Can we refine the questions by looking at other variables \n",
    "# Using K-Means Clustering "
   ]
  },
  {
   "cell_type": "code",
   "execution_count": 92,
   "metadata": {},
   "outputs": [],
   "source": [
    "#Create measures\n",
    "drink_mapping = {\"not at all\": 0, \"rarely\": 1, \"socially\": 2, \"often\": 3, \"very often\": 4, \"desperately\": 5}\n",
    "df[\"drinks_code\"] = df.drinks.map(drink_mapping)\n",
    "\n",
    "smokes_mapping = {\"no\": 0, \"sometimes\": 1, \"when drinking\": 2, \"trying to quit\": 3, \"yes\": 4, \"NaN\": 2}\n",
    "df[\"smokes_code\"] = df.smokes.map(smokes_mapping)\n",
    "\n",
    "drugs_mapping = {\"never\": 0, \"sometimes\": 1, \"NaN\": 2}\n",
    "df[\"drugs_code\"] = df.drugs.map(drugs_mapping)\n",
    "\n",
    "gender_mapping = {\"m\": 1, \"f\": 2}\n",
    "df[\"gender_code\"] = df.sex.map(gender_mapping)\n",
    "\n"
   ]
  },
  {
   "cell_type": "code",
   "execution_count": 95,
   "metadata": {},
   "outputs": [
    {
     "data": {
      "image/png": "[encoded data removed]",
      "text/plain": [
       "<Figure size 432x288 with 1 Axes>"
      ]
     },
     "metadata": {
      "needs_background": "light"
     },
     "output_type": "display_data"
    }
   ],
   "source": [
    "# KMeans Clustering\n",
    "\n",
    "#Variables\n",
    "x = df['education_counter_adjusted']\n",
    "y = df['drinks_code']\n",
    "\n",
    "#plt.scatter(x, y, alpha=0.5)\n",
    "#plt.xlabel('Age')\n",
    "#plt.ylabel('Drinks')\n",
    "#plt.title('Correlation of drinking and age')\n",
    "#plt.savefig('drinks_v_age.png')\n",
    "\n",
    "#plt.scatter(x, y, alpha=0.5)\n",
    "#plt.xlabel('Age')\n",
    "#plt.ylabel('Smoking')\n",
    "#plt.title('Correlation of smoking and age')\n",
    "#plt.savefig('smokes_v_age.png')\n",
    "\n",
    "#plt.scatter(x, y, alpha=0.5)\n",
    "#plt.xlabel('Educational Level')\n",
    "#plt.ylabel('smokes')\n",
    "#plt.title('Correlation of smoking and education level')\n",
    "#plt.savefig('smokes_v_edu.png')\n",
    "\n",
    "plt.scatter(x, y, alpha=0.5)\n",
    "plt.xlabel('Educational Level')\n",
    "plt.ylabel('Drinks')\n",
    "plt.title('Correlation of drinking and education level')\n",
    "plt.savefig('drinks_v_edu.png')\n",
    "\n",
    "#plt.savefig('drugs_v_age.png')\n",
    "\n",
    "plt.show()\n"
   ]
  },
  {
   "cell_type": "code",
   "execution_count": 96,
   "metadata": {},
   "outputs": [
    {
     "name": "stdout",
     "output_type": "stream",
     "text": [
      "[[1.84645499e+00 4.01020573e-01 1.73065500e-01 3.80976673e+02\n",
      "  3.23580647e+01 2.87912544e+03]\n",
      " [2.14880952e+00 8.57142857e-01 4.25595238e-01 4.08107143e+02\n",
      "  2.91339286e+01 1.00000000e+06]\n",
      " [1.86570946e+00 3.38893581e-01 1.53505068e-01 3.83649282e+02\n",
      "  3.62981419e+01 9.08572635e+04]]\n"
     ]
    }
   ],
   "source": [
    "# KMeans Clustering\n",
    "from sklearn.cluster import KMeans\n",
    "\n",
    "rows_to_cluster = df.dropna(subset = [\"drinks_code\", \"smokes_code\", \"drugs_code\", 'word_count', 'age', 'income'])\n",
    "classifier = KMeans(n_clusters = 3)\n",
    "classifier.fit(rows_to_cluster[[\"drinks_code\", \"smokes_code\", \"drugs_code\", 'word_count', 'age', 'income']])\n",
    "print(classifier.cluster_centers_)"
   ]
  },
  {
   "cell_type": "code",
   "execution_count": 102,
   "metadata": {},
   "outputs": [
    {
     "data": {
      "image/png": "[encoded data removed]",
      "text/plain": [
       "<Figure size 432x288 with 1 Axes>"
      ]
     },
     "metadata": {
      "needs_background": "light"
     },
     "output_type": "display_data"
    }
   ],
   "source": [
    "# Determining optimum nymber of clusters\n",
    "\n",
    "num_clusters = list(range(1, 9))\n",
    "inertias = []\n",
    "\n",
    "sample_cols = [\"drinks_code\", \"smokes_code\", \"drugs_code\", 'word_count', 'age']\n",
    "samples = df[sample_cols].replace(np.nan, 0 , regex=True)\n",
    "\n",
    "for k in num_clusters:\n",
    "  model = KMeans(n_clusters=k)\n",
    "  model.fit(samples)\n",
    "  inertias.append(model.inertia_)\n",
    "  \n",
    "plt.plot(num_clusters, inertias, '-o')\n",
    "plt.xlabel('Number of Clusters (k)')\n",
    "plt.ylabel('Inertia')\n",
    "plt.title('Optimum Number of Clusters')\n",
    "plt.savefig('clusters__inertia.png')\n",
    "plt.show() "
   ]
  },
  {
   "cell_type": "code",
   "execution_count": 103,
   "metadata": {},
   "outputs": [
    {
     "name": "stdout",
     "output_type": "stream",
     "text": [
      "m    0.563583\n",
      "f    0.436417\n",
      "Name: sex, dtype: float64\n",
      "m    0.770833\n",
      "f    0.229167\n",
      "Name: sex, dtype: float64\n",
      "m    0.77386\n",
      "f    0.22614\n",
      "Name: sex, dtype: float64\n"
     ]
    }
   ],
   "source": [
    "#Separate the clusters \n",
    "\n",
    "#print(classifier.labels_)\n",
    "\n",
    "cluster_zero_indices = []\n",
    "cluster_one_indices = []\n",
    "cluster_two_indices = []\n",
    "for i in range(len(classifier.labels_)):\n",
    "    if classifier.labels_[i] == 0:\n",
    "        cluster_zero_indices.append(i)\n",
    "    elif classifier.labels_[i] == 1:\n",
    "        cluster_one_indices.append(i)\n",
    "    elif classifier.labels_[i] == 2:\n",
    "        cluster_two_indices.append(i)\n",
    "        \n",
    "#print(cluster_zero_indices)\n",
    "\n",
    "#investigate the clusters\n",
    "\n",
    "cluster_zero_df = rows_to_cluster.iloc[cluster_zero_indices]\n",
    "cluster_one_df = rows_to_cluster.iloc[cluster_one_indices]\n",
    "cluster_two_df = rows_to_cluster.iloc[cluster_two_indices]\n",
    "\n",
    "print(cluster_zero_df['sex'].value_counts()/len(cluster_zero_df))\n",
    "print(cluster_one_df['sex'].value_counts()/len(cluster_one_df))\n",
    "print(cluster_two_df['sex'].value_counts()/len(cluster_two_df))\n",
    "\n",
    "#print(cluster_zero_df['job'].value_counts()/len(cluster_zero_df))\n",
    "#print(cluster_one_df['job'].value_counts()/len(cluster_one_df))\n",
    "#print(cluster_two_df['job'].value_counts()/len(cluster_two_df))"
   ]
  },
  {
   "cell_type": "code",
   "execution_count": null,
   "metadata": {},
   "outputs": [],
   "source": []
  },
  {
   "cell_type": "code",
   "execution_count": null,
   "metadata": {},
   "outputs": [],
   "source": []
  }
 ],
 "metadata": {
  "kernelspec": {
   "display_name": "Python 3",
   "language": "python",
   "name": "python3"
  },
  "language_info": {
   "codemirror_mode": {
    "name": "ipython",
    "version": 3
   },
   "file_extension": ".py",
   "mimetype": "text/x-python",
   "name": "python",
   "nbconvert_exporter": "python",
   "pygments_lexer": "ipython3",
   "version": "3.7.0"
  }
 },
 "nbformat": 4,
 "nbformat_minor": 2
}
